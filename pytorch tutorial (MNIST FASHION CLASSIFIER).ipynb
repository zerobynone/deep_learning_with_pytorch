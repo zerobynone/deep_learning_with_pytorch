{
 "cells": [
  {
   "cell_type": "markdown",
   "id": "80c1f4d0",
   "metadata": {},
   "source": [
    "# Working with Data"
   ]
  },
  {
   "cell_type": "code",
   "execution_count": 1,
   "id": "60f64aa2",
   "metadata": {},
   "outputs": [],
   "source": [
    "%matplotlib inline"
   ]
  },
  {
   "cell_type": "code",
   "execution_count": 3,
   "id": "99aae9de",
   "metadata": {},
   "outputs": [],
   "source": [
    "import torch\n",
    "from torch import nn\n",
    "from torch.utils.data import DataLoader\n",
    "from torchvision import datasets\n",
    "from torchvision.transforms import ToTensor, Lambda, Compose\n",
    "import matplotlib.pyplot as plt"
   ]
  },
  {
   "cell_type": "code",
   "execution_count": 7,
   "id": "9807282a",
   "metadata": {},
   "outputs": [],
   "source": [
    "## Download the data from open datasets\n",
    "training_data = datasets.FashionMNIST(root = \"data\", train = True, download = True, transform = ToTensor(),)\n",
    "test_data = datasets.FashionMNIST(root = \"data\", train = False, download = True, transform = ToTensor(),)"
   ]
  },
  {
   "cell_type": "code",
   "execution_count": 30,
   "id": "3682eb7e",
   "metadata": {},
   "outputs": [
    {
     "name": "stdout",
     "output_type": "stream",
     "text": [
      "tensor([[[[0., 0., 0.,  ..., 0., 0., 0.],\n",
      "          [0., 0., 0.,  ..., 0., 0., 0.],\n",
      "          [0., 0., 0.,  ..., 0., 0., 0.],\n",
      "          ...,\n",
      "          [0., 0., 0.,  ..., 0., 0., 0.],\n",
      "          [0., 0., 0.,  ..., 0., 0., 0.],\n",
      "          [0., 0., 0.,  ..., 0., 0., 0.]]],\n",
      "\n",
      "\n",
      "        [[[0., 0., 0.,  ..., 0., 0., 0.],\n",
      "          [0., 0., 0.,  ..., 0., 0., 0.],\n",
      "          [0., 0., 0.,  ..., 0., 0., 0.],\n",
      "          ...,\n",
      "          [0., 0., 0.,  ..., 0., 0., 0.],\n",
      "          [0., 0., 0.,  ..., 0., 0., 0.],\n",
      "          [0., 0., 0.,  ..., 0., 0., 0.]]],\n",
      "\n",
      "\n",
      "        [[[0., 0., 0.,  ..., 0., 0., 0.],\n",
      "          [0., 0., 0.,  ..., 0., 0., 0.],\n",
      "          [0., 0., 0.,  ..., 0., 0., 0.],\n",
      "          ...,\n",
      "          [0., 0., 0.,  ..., 0., 0., 0.],\n",
      "          [0., 0., 0.,  ..., 0., 0., 0.],\n",
      "          [0., 0., 0.,  ..., 0., 0., 0.]]],\n",
      "\n",
      "\n",
      "        ...,\n",
      "\n",
      "\n",
      "        [[[0., 0., 0.,  ..., 0., 0., 0.],\n",
      "          [0., 0., 0.,  ..., 0., 0., 0.],\n",
      "          [0., 0., 0.,  ..., 0., 0., 0.],\n",
      "          ...,\n",
      "          [0., 0., 0.,  ..., 0., 0., 0.],\n",
      "          [0., 0., 0.,  ..., 0., 0., 0.],\n",
      "          [0., 0., 0.,  ..., 0., 0., 0.]]],\n",
      "\n",
      "\n",
      "        [[[0., 0., 0.,  ..., 0., 0., 0.],\n",
      "          [0., 0., 0.,  ..., 0., 0., 0.],\n",
      "          [0., 0., 0.,  ..., 0., 0., 0.],\n",
      "          ...,\n",
      "          [0., 0., 0.,  ..., 0., 0., 0.],\n",
      "          [0., 0., 0.,  ..., 0., 0., 0.],\n",
      "          [0., 0., 0.,  ..., 0., 0., 0.]]],\n",
      "\n",
      "\n",
      "        [[[0., 0., 0.,  ..., 0., 0., 0.],\n",
      "          [0., 0., 0.,  ..., 0., 0., 0.],\n",
      "          [0., 0., 0.,  ..., 0., 0., 0.],\n",
      "          ...,\n",
      "          [0., 0., 0.,  ..., 0., 0., 0.],\n",
      "          [0., 0., 0.,  ..., 0., 0., 0.],\n",
      "          [0., 0., 0.,  ..., 0., 0., 0.]]]])\n",
      "shape of X[N,C,H,W]: torch.Size([64, 1, 28, 28])\n",
      "shpae of y: torch.Size([64]) torch.int64\n"
     ]
    }
   ],
   "source": [
    "batch_size = 64\n",
    "\n",
    "train_dataloader = DataLoader(training_data, batch_size = batch_size)\n",
    "test_dataloader = DataLoader(test_data,batch_size = batch_size)\n",
    "\n",
    "for X, y in test_dataloader:\n",
    "    print(X)\n",
    "    print(\"shape of X[N,C,H,W]:\", X.shape)\n",
    "    print(\"shpae of y:\", y.shape, y.dtype)\n",
    "    break"
   ]
  },
  {
   "cell_type": "markdown",
   "id": "4be95195",
   "metadata": {},
   "source": [
    "# Creating Models"
   ]
  },
  {
   "cell_type": "code",
   "execution_count": 19,
   "id": "b731dcda",
   "metadata": {},
   "outputs": [
    {
     "name": "stdout",
     "output_type": "stream",
     "text": [
      "using cpu device\n"
     ]
    }
   ],
   "source": [
    "#get cpu of gpu device for training\n",
    "device = \"cuda\" if torch.cuda.is_available() else \"cpu\"\n",
    "print(\"using {} device\".format(device))"
   ]
  },
  {
   "cell_type": "code",
   "execution_count": 21,
   "id": "ac13037b",
   "metadata": {},
   "outputs": [
    {
     "name": "stdout",
     "output_type": "stream",
     "text": [
      "FashionMNIST(\n",
      "  (flatten): Flatten(start_dim=1, end_dim=-1)\n",
      "  (linear_relu_stack): Sequential(\n",
      "    (0): Linear(in_features=784, out_features=512, bias=True)\n",
      "    (1): ReLU()\n",
      "    (2): Linear(in_features=512, out_features=512, bias=True)\n",
      "    (3): ReLU()\n",
      "    (4): Linear(in_features=512, out_features=10, bias=True)\n",
      "    (5): ReLU()\n",
      "  )\n",
      ")\n"
     ]
    }
   ],
   "source": [
    "#Define model\n",
    "class FashionMNIST(nn.Module):\n",
    "    def __init__(self):\n",
    "        super(FashionMNIST,self).__init__()\n",
    "        self.flatten = nn.Flatten()\n",
    "        self. linear_relu_stack = nn.Sequential(\n",
    "            nn.Linear(28*28, 512),\n",
    "            nn.ReLU(),\n",
    "            nn.Linear(512,512),\n",
    "            nn.ReLU(),\n",
    "            nn.Linear(512,10),\n",
    "            nn.ReLU()\n",
    "        )\n",
    "        \n",
    "    def forward(self,x):\n",
    "        x = self.flatten(x)\n",
    "        logits = self.linear_relu_stack(x)\n",
    "        return logits\n",
    "    \n",
    "model = FashionMNIST().to(device)\n",
    "print(model)"
   ]
  },
  {
   "cell_type": "code",
   "execution_count": 22,
   "id": "786be5f9",
   "metadata": {},
   "outputs": [],
   "source": [
    "loss_fn = nn.CrossEntropyLoss()\n",
    "optimizer = torch.optim.SGD(model.parameters(), lr= 1e-3)"
   ]
  },
  {
   "cell_type": "code",
   "execution_count": 35,
   "id": "5119ab8e",
   "metadata": {},
   "outputs": [],
   "source": [
    "#predictions on the training dataset, backpropagation, optimizing\n",
    "def train(dataloader, model, loss_fn, optimizer):\n",
    "    size = len(dataloader.dataset)\n",
    "    for batch, (X,y) in enumerate(dataloader):\n",
    "        X, y = X.to(device), y.to(device)\n",
    "        \n",
    "        #Compute prediction error\n",
    "        pred = model(X)\n",
    "        loss = loss_fn(pred,y)\n",
    "        \n",
    "        #Backpropagation\n",
    "        optimizer.zero_grad()\n",
    "        loss.backward()\n",
    "        optimizer.step()\n",
    "        \n",
    "        if batch %100 == 0:\n",
    "            loss, current = loss.item(), batch * len(X)\n",
    "            print(f\"loss: {loss:>7f} [{current:>5d}/{size:>5d}]\")"
   ]
  },
  {
   "cell_type": "code",
   "execution_count": 46,
   "id": "bae83f67",
   "metadata": {},
   "outputs": [],
   "source": [
    "#in test data\n",
    "def test(dataloader, model, loss_fn):\n",
    "    size = len(dataloader.dataset)\n",
    "    num_batches = len(dataloader)\n",
    "    model.eval()\n",
    "    test_loss, correct = 0,0\n",
    "    with torch.no_grad():\n",
    "        for X, y in dataloader:\n",
    "            X, y = X.to(device), y.to(device)\n",
    "            pred = model(X)\n",
    "            test_loss += loss_fn(pred,y).item()\n",
    "            correct += (pred.argmax(1)==y).type(torch.float).sum().item()\n",
    "    test_loss /= num_batches\n",
    "    correct /= size\n",
    "    print(f\"Test Error: \\n Accuracy: {(100*correct):>0.1f}%,Avg loss: {test_loss:>8f} \\n\")"
   ]
  },
  {
   "cell_type": "code",
   "execution_count": 47,
   "id": "ee500f7b",
   "metadata": {},
   "outputs": [
    {
     "name": "stdout",
     "output_type": "stream",
     "text": [
      "Epoch 1\n",
      "--------------------------\n",
      "loss: 0.888285 [    0/60000]\n",
      "loss: 0.975268 [ 6400/60000]\n",
      "loss: 0.766145 [12800/60000]\n",
      "loss: 0.906015 [19200/60000]\n",
      "loss: 0.814490 [25600/60000]\n",
      "loss: 0.778966 [32000/60000]\n",
      "loss: 0.859775 [38400/60000]\n",
      "loss: 0.859101 [44800/60000]\n",
      "loss: 0.816302 [51200/60000]\n",
      "loss: 0.913648 [57600/60000]\n",
      "Test Error: \n",
      " Accuracy: 75.5%,Avg loss: 0.856086 \n",
      "\n",
      "Epoch 2\n",
      "--------------------------\n",
      "loss: 0.870258 [    0/60000]\n",
      "loss: 0.959838 [ 6400/60000]\n",
      "loss: 0.751350 [12800/60000]\n",
      "loss: 0.893972 [19200/60000]\n",
      "loss: 0.803917 [25600/60000]\n",
      "loss: 0.767906 [32000/60000]\n",
      "loss: 0.847459 [38400/60000]\n",
      "loss: 0.850872 [44800/60000]\n",
      "loss: 0.804223 [51200/60000]\n",
      "loss: 0.904205 [57600/60000]\n",
      "Test Error: \n",
      " Accuracy: 75.9%,Avg loss: 0.843804 \n",
      "\n",
      "Epoch 3\n",
      "--------------------------\n",
      "loss: 0.853750 [    0/60000]\n",
      "loss: 0.945213 [ 6400/60000]\n",
      "loss: 0.738242 [12800/60000]\n",
      "loss: 0.882989 [19200/60000]\n",
      "loss: 0.794531 [25600/60000]\n",
      "loss: 0.757745 [32000/60000]\n",
      "loss: 0.836115 [38400/60000]\n",
      "loss: 0.844461 [44800/60000]\n",
      "loss: 0.793431 [51200/60000]\n",
      "loss: 0.895536 [57600/60000]\n",
      "Test Error: \n",
      " Accuracy: 76.3%,Avg loss: 0.832470 \n",
      "\n",
      "Epoch 4\n",
      "--------------------------\n",
      "loss: 0.838504 [    0/60000]\n",
      "loss: 0.931479 [ 6400/60000]\n",
      "loss: 0.726304 [12800/60000]\n",
      "loss: 0.873036 [19200/60000]\n",
      "loss: 0.786255 [25600/60000]\n",
      "loss: 0.748751 [32000/60000]\n",
      "loss: 0.825792 [38400/60000]\n",
      "loss: 0.838478 [44800/60000]\n",
      "loss: 0.783967 [51200/60000]\n",
      "loss: 0.887045 [57600/60000]\n",
      "Test Error: \n",
      " Accuracy: 76.5%,Avg loss: 0.822015 \n",
      "\n",
      "Epoch 5\n",
      "--------------------------\n",
      "loss: 0.824578 [    0/60000]\n",
      "loss: 0.918656 [ 6400/60000]\n",
      "loss: 0.715548 [12800/60000]\n",
      "loss: 0.863818 [19200/60000]\n",
      "loss: 0.778998 [25600/60000]\n",
      "loss: 0.740806 [32000/60000]\n",
      "loss: 0.816434 [38400/60000]\n",
      "loss: 0.834173 [44800/60000]\n",
      "loss: 0.775615 [51200/60000]\n",
      "loss: 0.879174 [57600/60000]\n",
      "Test Error: \n",
      " Accuracy: 76.7%,Avg loss: 0.812401 \n",
      "\n",
      "Done!\n"
     ]
    }
   ],
   "source": [
    "epochs = 5\n",
    "for t in range(epochs):\n",
    "    print(f\"Epoch {t+1}\\n--------------------------\")\n",
    "    train(train_dataloader, model, loss_fn, optimizer)\n",
    "    test(test_dataloader, model, loss_fn)\n",
    "print(\"Done!\")"
   ]
  },
  {
   "cell_type": "code",
   "execution_count": 48,
   "id": "dcff4f88",
   "metadata": {
    "scrolled": true
   },
   "outputs": [
    {
     "name": "stdout",
     "output_type": "stream",
     "text": [
      "Saved PyTorch Model State to model.pth\n"
     ]
    }
   ],
   "source": [
    "torch.save(model.state_dict(), \"model.pth\")\n",
    "print(\"Saved PyTorch Model State to model.pth\")"
   ]
  },
  {
   "cell_type": "code",
   "execution_count": 50,
   "id": "f113cb87",
   "metadata": {},
   "outputs": [
    {
     "data": {
      "text/plain": [
       "<All keys matched successfully>"
      ]
     },
     "execution_count": 50,
     "metadata": {},
     "output_type": "execute_result"
    }
   ],
   "source": [
    "model = FashionMNIST()\n",
    "model.load_state_dict(torch.load(\"model.pth\"))"
   ]
  },
  {
   "cell_type": "code",
   "execution_count": 51,
   "id": "731ec322",
   "metadata": {},
   "outputs": [
    {
     "name": "stdout",
     "output_type": "stream",
     "text": [
      "Predicted: \"Ankle boot\", Actual: \"Ankle boot\"\n"
     ]
    }
   ],
   "source": [
    "classes = [\n",
    "    \"T-shirt/top\",\n",
    "    \"Trouser\",\n",
    "    \"Pullover\",\n",
    "    \"Dress\",\n",
    "    \"Coat\",\n",
    "    \"Sandal\",\n",
    "    \"Shirt\",\n",
    "    \"Sneaker\",\n",
    "    \"Bag\",\n",
    "    \"Ankle boot\",\n",
    "]\n",
    "\n",
    "model.eval()\n",
    "x, y = test_data[0][0], test_data[0][1]\n",
    "with torch.no_grad():\n",
    "    pred = model(x)\n",
    "    predicted, actual = classes[pred[0].argmax(0)], classes[y]\n",
    "    print(f'Predicted: \"{predicted}\", Actual: \"{actual}\"')"
   ]
  }
 ],
 "metadata": {
  "kernelspec": {
   "display_name": "Python 3",
   "language": "python",
   "name": "python3"
  },
  "language_info": {
   "codemirror_mode": {
    "name": "ipython",
    "version": 3
   },
   "file_extension": ".py",
   "mimetype": "text/x-python",
   "name": "python",
   "nbconvert_exporter": "python",
   "pygments_lexer": "ipython3",
   "version": "3.8.8"
  }
 },
 "nbformat": 4,
 "nbformat_minor": 5
}
